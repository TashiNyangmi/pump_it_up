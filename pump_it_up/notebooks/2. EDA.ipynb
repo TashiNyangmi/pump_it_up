{
 "cells": [
  {
   "cell_type": "markdown",
   "metadata": {},
   "source": [
    "<img src = '../../sb_tight.png'>\n",
    "<h1 align = 'center'> Capstone Project 2: Pump It Up </h1>"
   ]
  },
  {
   "cell_type": "markdown",
   "metadata": {},
   "source": [
    "---"
   ]
  },
  {
   "cell_type": "markdown",
   "metadata": {},
   "source": [
    "### Notebook 2: EDA (Exploratory Data Analysis)\n",
    "**Author:<br>\n",
    "Tashi T. Gurung**<br>\n",
    "**hseb.tashi@gmail.com**"
   ]
  },
  {
   "cell_type": "markdown",
   "metadata": {},
   "source": [
    "### About the project:\n",
    "The **objective** of this project is to **predict the failure of water points** spread accross Tanzania before they occur.\n",
    "\n",
    "50% of Tanzania's population do not have access to safe water. Among other sources, Tanzanians depend on water points mostly pumps (~60K) spread across Tanzania. Compared to other infrastructure projects, water point projects consist of a huge number of inspection points that are geographically spread out. Gathering data on the condition of these pumps has been a challenge. From working with local agencies, to implementing mobile based crowd sourcing projects, none have produced satisfactory results.\n",
    "\n",
    "The lack of quality data creates a number of problem for a stakeholder like the Tanzanian Government, specifically the Ministry of Water. Consequences include not only higher maintainence costs, but also all the problems and nuanced issues faced by communities when their access to water is compromised or threatened.\n",
    "\n",
    "While better data collection infrastructure should be built overtime, this project (with its model(s), various analysis, and insights) will be key for efficient resource allocation to maximize the number of people and communities with access to water.\n",
    "In the long run, it will assist stake holders in and project planning, and even local, regional and national level policy formation. "
   ]
  },
  {
   "cell_type": "markdown",
   "metadata": {},
   "source": [
    "### About the notebook:\n",
    "We imported the dataset produced by the '1.Data Wrangling.ipynb' notebook.\\\n",
    "We will perform EDA to better understand the data.\\\n",
    "To look at the relationship between variables.\\\n",
    "We will also take a closer look at missing values including spotting patterns."
   ]
  },
  {
   "cell_type": "markdown",
   "metadata": {},
   "source": [
    "---"
   ]
  },
  {
   "cell_type": "markdown",
   "metadata": {},
   "source": [
    "# Import libraries and datasets"
   ]
  },
  {
   "cell_type": "code",
   "execution_count": 77,
   "metadata": {},
   "outputs": [],
   "source": [
    "import pandas as pd\n",
    "import numpy as np\n",
    "\n",
    "import matplotlib.pyplot as plt\n",
    "import seaborn as sns"
   ]
  },
  {
   "cell_type": "code",
   "execution_count": 78,
   "metadata": {},
   "outputs": [],
   "source": [
    "df = pd.read_csv('../data/interim/df.csv')"
   ]
  },
  {
   "cell_type": "code",
   "execution_count": 79,
   "metadata": {},
   "outputs": [],
   "source": [
    "data = df.copy()"
   ]
  },
  {
   "cell_type": "markdown",
   "metadata": {},
   "source": [
    "---"
   ]
  },
  {
   "cell_type": "markdown",
   "metadata": {},
   "source": [
    "Some categorical variables have datatype int.\\\n",
    "Let us convert them to their correct datatype i.e. string"
   ]
  },
  {
   "cell_type": "code",
   "execution_count": 80,
   "metadata": {},
   "outputs": [],
   "source": [
    "# convert datatype of cols from int to str\n",
    "cols = ['id','region_code','district_code',]\n",
    "for col in cols:\n",
    "    data[col] = data[col].astype('str')"
   ]
  },
  {
   "cell_type": "markdown",
   "metadata": {},
   "source": [
    "---"
   ]
  },
  {
   "cell_type": "code",
   "execution_count": 81,
   "metadata": {},
   "outputs": [
    {
     "data": {
      "text/plain": [
       "object     34\n",
       "int64       3\n",
       "float64     3\n",
       "dtype: int64"
      ]
     },
     "execution_count": 81,
     "metadata": {},
     "output_type": "execute_result"
    }
   ],
   "source": [
    "data.dtypes.value_counts()"
   ]
  },
  {
   "cell_type": "markdown",
   "metadata": {},
   "source": [
    "Now we have 33 categorical variables excluding target variable, but only\\\n",
    "6 numeric variables\\\n",
    "Hence, let us start our EDA with categorical variables"
   ]
  },
  {
   "cell_type": "markdown",
   "metadata": {},
   "source": [
    "---"
   ]
  },
  {
   "cell_type": "markdown",
   "metadata": {},
   "source": [
    "### EDA: Categorical Variables"
   ]
  },
  {
   "cell_type": "markdown",
   "metadata": {},
   "source": [
    "Primary Resource Consulted for this portion of EDA:\\\n",
    "Medium/Analytics Vidhya\\\n",
    "https://medium.com/analytics-vidhya/tutorial-exploratory-data-analysis-eda-with-categorical-variables-6a569a3aea55"
   ]
  },
  {
   "cell_type": "code",
   "execution_count": 82,
   "metadata": {},
   "outputs": [
    {
     "data": {
      "text/html": [
       "<div>\n",
       "<style scoped>\n",
       "    .dataframe tbody tr th:only-of-type {\n",
       "        vertical-align: middle;\n",
       "    }\n",
       "\n",
       "    .dataframe tbody tr th {\n",
       "        vertical-align: top;\n",
       "    }\n",
       "\n",
       "    .dataframe thead th {\n",
       "        text-align: right;\n",
       "    }\n",
       "</style>\n",
       "<table border=\"1\" class=\"dataframe\">\n",
       "  <thead>\n",
       "    <tr style=\"text-align: right;\">\n",
       "      <th></th>\n",
       "      <th>e.g. row1</th>\n",
       "      <th>nunique()</th>\n",
       "      <th>missing_value %</th>\n",
       "    </tr>\n",
       "  </thead>\n",
       "  <tbody>\n",
       "    <tr>\n",
       "      <th>id</th>\n",
       "      <td>69572</td>\n",
       "      <td>59400</td>\n",
       "      <td>0.000000</td>\n",
       "    </tr>\n",
       "    <tr>\n",
       "      <th>date_recorded</th>\n",
       "      <td>2011-03-14</td>\n",
       "      <td>356</td>\n",
       "      <td>0.000000</td>\n",
       "    </tr>\n",
       "    <tr>\n",
       "      <th>funder</th>\n",
       "      <td>Roman</td>\n",
       "      <td>1897</td>\n",
       "      <td>0.061195</td>\n",
       "    </tr>\n",
       "    <tr>\n",
       "      <th>installer</th>\n",
       "      <td>Roman</td>\n",
       "      <td>2145</td>\n",
       "      <td>0.061532</td>\n",
       "    </tr>\n",
       "    <tr>\n",
       "      <th>wpt_name</th>\n",
       "      <td>none</td>\n",
       "      <td>37400</td>\n",
       "      <td>0.000000</td>\n",
       "    </tr>\n",
       "    <tr>\n",
       "      <th>basin</th>\n",
       "      <td>Lake Nyasa</td>\n",
       "      <td>9</td>\n",
       "      <td>0.000000</td>\n",
       "    </tr>\n",
       "    <tr>\n",
       "      <th>subvillage</th>\n",
       "      <td>Mnyusi B</td>\n",
       "      <td>19287</td>\n",
       "      <td>0.006246</td>\n",
       "    </tr>\n",
       "    <tr>\n",
       "      <th>region</th>\n",
       "      <td>Iringa</td>\n",
       "      <td>21</td>\n",
       "      <td>0.000000</td>\n",
       "    </tr>\n",
       "    <tr>\n",
       "      <th>region_code</th>\n",
       "      <td>11</td>\n",
       "      <td>27</td>\n",
       "      <td>0.000000</td>\n",
       "    </tr>\n",
       "    <tr>\n",
       "      <th>district_code</th>\n",
       "      <td>5</td>\n",
       "      <td>20</td>\n",
       "      <td>0.000000</td>\n",
       "    </tr>\n",
       "    <tr>\n",
       "      <th>lga</th>\n",
       "      <td>Ludewa</td>\n",
       "      <td>125</td>\n",
       "      <td>0.000000</td>\n",
       "    </tr>\n",
       "    <tr>\n",
       "      <th>ward</th>\n",
       "      <td>Mundindi</td>\n",
       "      <td>2092</td>\n",
       "      <td>0.000000</td>\n",
       "    </tr>\n",
       "    <tr>\n",
       "      <th>public_meeting</th>\n",
       "      <td>True</td>\n",
       "      <td>2</td>\n",
       "      <td>0.056128</td>\n",
       "    </tr>\n",
       "    <tr>\n",
       "      <th>recorded_by</th>\n",
       "      <td>GeoData Consultants Ltd</td>\n",
       "      <td>1</td>\n",
       "      <td>0.000000</td>\n",
       "    </tr>\n",
       "    <tr>\n",
       "      <th>scheme_management</th>\n",
       "      <td>VWC</td>\n",
       "      <td>12</td>\n",
       "      <td>0.065269</td>\n",
       "    </tr>\n",
       "    <tr>\n",
       "      <th>scheme_name</th>\n",
       "      <td>Roman</td>\n",
       "      <td>2696</td>\n",
       "      <td>0.474175</td>\n",
       "    </tr>\n",
       "    <tr>\n",
       "      <th>permit</th>\n",
       "      <td>False</td>\n",
       "      <td>2</td>\n",
       "      <td>0.051448</td>\n",
       "    </tr>\n",
       "    <tr>\n",
       "      <th>extraction_type</th>\n",
       "      <td>gravity</td>\n",
       "      <td>18</td>\n",
       "      <td>0.000000</td>\n",
       "    </tr>\n",
       "    <tr>\n",
       "      <th>extraction_type_group</th>\n",
       "      <td>gravity</td>\n",
       "      <td>13</td>\n",
       "      <td>0.000000</td>\n",
       "    </tr>\n",
       "    <tr>\n",
       "      <th>extraction_type_class</th>\n",
       "      <td>gravity</td>\n",
       "      <td>7</td>\n",
       "      <td>0.000000</td>\n",
       "    </tr>\n",
       "    <tr>\n",
       "      <th>management</th>\n",
       "      <td>vwc</td>\n",
       "      <td>12</td>\n",
       "      <td>0.000000</td>\n",
       "    </tr>\n",
       "    <tr>\n",
       "      <th>management_group</th>\n",
       "      <td>user-group</td>\n",
       "      <td>5</td>\n",
       "      <td>0.000000</td>\n",
       "    </tr>\n",
       "    <tr>\n",
       "      <th>payment</th>\n",
       "      <td>pay annually</td>\n",
       "      <td>7</td>\n",
       "      <td>0.000000</td>\n",
       "    </tr>\n",
       "    <tr>\n",
       "      <th>payment_type</th>\n",
       "      <td>annually</td>\n",
       "      <td>7</td>\n",
       "      <td>0.000000</td>\n",
       "    </tr>\n",
       "    <tr>\n",
       "      <th>water_quality</th>\n",
       "      <td>soft</td>\n",
       "      <td>8</td>\n",
       "      <td>0.000000</td>\n",
       "    </tr>\n",
       "    <tr>\n",
       "      <th>quality_group</th>\n",
       "      <td>good</td>\n",
       "      <td>6</td>\n",
       "      <td>0.000000</td>\n",
       "    </tr>\n",
       "    <tr>\n",
       "      <th>quantity</th>\n",
       "      <td>enough</td>\n",
       "      <td>5</td>\n",
       "      <td>0.000000</td>\n",
       "    </tr>\n",
       "    <tr>\n",
       "      <th>quantity_group</th>\n",
       "      <td>enough</td>\n",
       "      <td>5</td>\n",
       "      <td>0.000000</td>\n",
       "    </tr>\n",
       "    <tr>\n",
       "      <th>source</th>\n",
       "      <td>spring</td>\n",
       "      <td>10</td>\n",
       "      <td>0.000000</td>\n",
       "    </tr>\n",
       "    <tr>\n",
       "      <th>source_type</th>\n",
       "      <td>spring</td>\n",
       "      <td>7</td>\n",
       "      <td>0.000000</td>\n",
       "    </tr>\n",
       "    <tr>\n",
       "      <th>source_class</th>\n",
       "      <td>groundwater</td>\n",
       "      <td>3</td>\n",
       "      <td>0.000000</td>\n",
       "    </tr>\n",
       "    <tr>\n",
       "      <th>waterpoint_type</th>\n",
       "      <td>communal standpipe</td>\n",
       "      <td>7</td>\n",
       "      <td>0.000000</td>\n",
       "    </tr>\n",
       "    <tr>\n",
       "      <th>waterpoint_type_group</th>\n",
       "      <td>communal standpipe</td>\n",
       "      <td>6</td>\n",
       "      <td>0.000000</td>\n",
       "    </tr>\n",
       "    <tr>\n",
       "      <th>target_var</th>\n",
       "      <td>functional</td>\n",
       "      <td>3</td>\n",
       "      <td>0.000000</td>\n",
       "    </tr>\n",
       "  </tbody>\n",
       "</table>\n",
       "</div>"
      ],
      "text/plain": [
       "                                     e.g. row1  nunique()  missing_value %\n",
       "id                                       69572      59400         0.000000\n",
       "date_recorded                       2011-03-14        356         0.000000\n",
       "funder                                   Roman       1897         0.061195\n",
       "installer                                Roman       2145         0.061532\n",
       "wpt_name                                  none      37400         0.000000\n",
       "basin                               Lake Nyasa          9         0.000000\n",
       "subvillage                            Mnyusi B      19287         0.006246\n",
       "region                                  Iringa         21         0.000000\n",
       "region_code                                 11         27         0.000000\n",
       "district_code                                5         20         0.000000\n",
       "lga                                     Ludewa        125         0.000000\n",
       "ward                                  Mundindi       2092         0.000000\n",
       "public_meeting                            True          2         0.056128\n",
       "recorded_by            GeoData Consultants Ltd          1         0.000000\n",
       "scheme_management                          VWC         12         0.065269\n",
       "scheme_name                              Roman       2696         0.474175\n",
       "permit                                   False          2         0.051448\n",
       "extraction_type                        gravity         18         0.000000\n",
       "extraction_type_group                  gravity         13         0.000000\n",
       "extraction_type_class                  gravity          7         0.000000\n",
       "management                                 vwc         12         0.000000\n",
       "management_group                    user-group          5         0.000000\n",
       "payment                           pay annually          7         0.000000\n",
       "payment_type                          annually          7         0.000000\n",
       "water_quality                             soft          8         0.000000\n",
       "quality_group                             good          6         0.000000\n",
       "quantity                                enough          5         0.000000\n",
       "quantity_group                          enough          5         0.000000\n",
       "source                                  spring         10         0.000000\n",
       "source_type                             spring          7         0.000000\n",
       "source_class                       groundwater          3         0.000000\n",
       "waterpoint_type             communal standpipe          7         0.000000\n",
       "waterpoint_type_group       communal standpipe          6         0.000000\n",
       "target_var                          functional          3         0.000000"
      ]
     },
     "execution_count": 82,
     "metadata": {},
     "output_type": "execute_result"
    }
   ],
   "source": [
    "data_cat = data.select_dtypes(include=object)\n",
    "\n",
    "# CONCAT \n",
    "# -> first row, and \n",
    "# -> nunique() of each column\n",
    "\n",
    "pd.concat([data_cat.iloc[0].T,data_cat.nunique(), data_cat.isna().sum()/len(data_cat)], \n",
    "          axis = 1, \n",
    "          keys = ['e.g. row1','nunique()', 'missing_value %'])"
   ]
  },
  {
   "cell_type": "markdown",
   "metadata": {},
   "source": [
    "---"
   ]
  },
  {
   "cell_type": "markdown",
   "metadata": {},
   "source": [
    "For EDA's that follow, let us temporarity convert the target_variable to a numeric datatype with 2 classes instead of 3"
   ]
  },
  {
   "cell_type": "code",
   "execution_count": 83,
   "metadata": {},
   "outputs": [],
   "source": [
    "data['target_var'] = data['target_var'].map({'functional':1,'non functional':0, 'functional needs repair':0})"
   ]
  },
  {
   "cell_type": "markdown",
   "metadata": {},
   "source": [
    "---"
   ]
  },
  {
   "cell_type": "markdown",
   "metadata": {},
   "source": [
    "Let us now start looking at individual features.\\\n",
    "and their relationship to the target_variable"
   ]
  },
  {
   "cell_type": "markdown",
   "metadata": {},
   "source": [
    "---"
   ]
  },
  {
   "cell_type": "markdown",
   "metadata": {},
   "source": [
    "column: **funder**"
   ]
  },
  {
   "cell_type": "code",
   "execution_count": 84,
   "metadata": {},
   "outputs": [
    {
     "data": {
      "text/plain": [
       "Government Of Tanzania         0.152929\n",
       "Danida                         0.052424\n",
       "Hesawa                         0.037071\n",
       "Rwssp                          0.023131\n",
       "World Bank                     0.022710\n",
       "                                 ...   \n",
       "Manyota Primary School         0.000017\n",
       "Magige                         0.000017\n",
       "Pema                           0.000017\n",
       "Mzee Shindika                  0.000017\n",
       "Abc-ihushi Development Cent    0.000017\n",
       "Name: funder, Length: 1897, dtype: float64"
      ]
     },
     "execution_count": 84,
     "metadata": {},
     "output_type": "execute_result"
    }
   ],
   "source": [
    "data['funder'].value_counts()/len(df)"
   ]
  },
  {
   "cell_type": "markdown",
   "metadata": {},
   "source": [
    "Let us create a new feature called 'funder_bool' where if funder  is 'Government of Tanzania' or 'Ministry of Water', value = 'govt', else 'non-govt'"
   ]
  },
  {
   "cell_type": "code",
   "execution_count": 85,
   "metadata": {},
   "outputs": [],
   "source": [
    "data['funder_bool'] = np.where(data['funder'].isin(['Government Of Tanzania','Ministry Of Water']), 'govt', 'non-govt')"
   ]
  },
  {
   "cell_type": "code",
   "execution_count": 86,
   "metadata": {},
   "outputs": [
    {
     "data": {
      "text/plain": [
       "funder_bool\n",
       "govt        0.404383\n",
       "non-govt    0.570064\n",
       "Name: target_var, dtype: float64"
      ]
     },
     "execution_count": 86,
     "metadata": {},
     "output_type": "execute_result"
    }
   ],
   "source": [
    "s = data.groupby('funder_bool')['target_var'].mean()\n",
    "s"
   ]
  },
  {
   "cell_type": "code",
   "execution_count": 87,
   "metadata": {},
   "outputs": [
    {
     "data": {
      "text/plain": [
       "1.4097133580363954"
      ]
     },
     "execution_count": 87,
     "metadata": {},
     "output_type": "execute_result"
    }
   ],
   "source": [
    "s['non-govt']/s['govt']"
   ]
  },
  {
   "cell_type": "markdown",
   "metadata": {},
   "source": [
    "Observation: Water pumps funded by the any other organization or agent is ~41% more likely to be functional vs non functional or needs repair"
   ]
  },
  {
   "cell_type": "markdown",
   "metadata": {},
   "source": [
    "---"
   ]
  },
  {
   "cell_type": "markdown",
   "metadata": {},
   "source": [
    "column: **installer**"
   ]
  },
  {
   "cell_type": "code",
   "execution_count": 88,
   "metadata": {},
   "outputs": [
    {
     "data": {
      "text/plain": [
       "DWE                  0.292963\n",
       "Government           0.030724\n",
       "RWE                  0.020303\n",
       "Commu                0.017845\n",
       "DANIDA               0.017677\n",
       "                       ...   \n",
       "LIZAD                0.000017\n",
       "Cathoric             0.000017\n",
       "TINA/Africare        0.000017\n",
       "JSICA                0.000017\n",
       "Igolola community    0.000017\n",
       "Name: installer, Length: 2145, dtype: float64"
      ]
     },
     "execution_count": 88,
     "metadata": {},
     "output_type": "execute_result"
    }
   ],
   "source": [
    "data['installer'].value_counts()/len(df)"
   ]
  },
  {
   "cell_type": "code",
   "execution_count": 89,
   "metadata": {},
   "outputs": [],
   "source": [
    "data['installer_bool'] = np.where(data['installer'] == 'DWE', 'DWE', 'Non-DWE')"
   ]
  },
  {
   "cell_type": "code",
   "execution_count": 90,
   "metadata": {},
   "outputs": [
    {
     "data": {
      "text/plain": [
       "installer_bool\n",
       "DWE        0.542064\n",
       "Non-DWE    0.543502\n",
       "Name: target_var, dtype: float64"
      ]
     },
     "execution_count": 90,
     "metadata": {},
     "output_type": "execute_result"
    }
   ],
   "source": [
    "s = data.groupby('installer_bool')['target_var'].mean()\n",
    "s"
   ]
  },
  {
   "cell_type": "code",
   "execution_count": 91,
   "metadata": {},
   "outputs": [
    {
     "data": {
      "text/plain": [
       "0.9973543045319602"
      ]
     },
     "execution_count": 91,
     "metadata": {},
     "output_type": "execute_result"
    }
   ],
   "source": [
    "s['DWE']/s['Non-DWE']"
   ]
  },
  {
   "cell_type": "markdown",
   "metadata": {},
   "source": [
    "Observation: Whether water pumps are installed by DWE or Non-DWE has no correlation with it's status"
   ]
  },
  {
   "cell_type": "markdown",
   "metadata": {},
   "source": [
    "---"
   ]
  },
  {
   "cell_type": "markdown",
   "metadata": {},
   "source": [
    "column: **basin**"
   ]
  },
  {
   "cell_type": "markdown",
   "metadata": {},
   "source": [
    "basin has low cardinality, hence we don't have to convert it into a boolean"
   ]
  },
  {
   "cell_type": "code",
   "execution_count": 92,
   "metadata": {},
   "outputs": [
    {
     "data": {
      "text/plain": [
       "basin\n",
       "Ruvuma / Southern Coast    0.37\n",
       "Lake Rukwa                 0.41\n",
       "Lake Tanganyika            0.48\n",
       "Lake Victoria              0.50\n",
       "Wami / Ruvu                0.52\n",
       "Internal                   0.58\n",
       "Pangani                    0.60\n",
       "Rufiji                     0.64\n",
       "Lake Nyasa                 0.65\n",
       "Name: target_var, dtype: float64"
      ]
     },
     "execution_count": 92,
     "metadata": {},
     "output_type": "execute_result"
    }
   ],
   "source": [
    "round(data.groupby('basin')['target_var'].mean().sort_values(),2)"
   ]
  },
  {
   "cell_type": "markdown",
   "metadata": {},
   "source": [
    "Observation: There seems to be some difference in the status of water pumps\\\n",
    "Questions: Are there confounding variables?"
   ]
  },
  {
   "cell_type": "markdown",
   "metadata": {},
   "source": [
    "---"
   ]
  },
  {
   "cell_type": "markdown",
   "metadata": {},
   "source": [
    "column: **region** and column: **region_code**"
   ]
  },
  {
   "cell_type": "code",
   "execution_count": 93,
   "metadata": {},
   "outputs": [
    {
     "name": "stdout",
     "output_type": "stream",
     "text": [
      "21 27\n"
     ]
    }
   ],
   "source": [
    "print(data['region'].nunique(), data['region_code'].nunique())"
   ]
  },
  {
   "cell_type": "code",
   "execution_count": 94,
   "metadata": {},
   "outputs": [
    {
     "data": {
      "text/plain": [
       "region\n",
       "Arusha                [2, 24]\n",
       "Dar es Salaam             [7]\n",
       "Dodoma                    [1]\n",
       "Iringa                   [11]\n",
       "Kagera                   [18]\n",
       "Kigoma                   [16]\n",
       "Kilimanjaro               [3]\n",
       "Lindi             [80, 18, 8]\n",
       "Manyara                  [21]\n",
       "Mara                     [20]\n",
       "Mbeya                    [12]\n",
       "Morogoro                  [5]\n",
       "Mtwara            [90, 99, 9]\n",
       "Mwanza               [19, 17]\n",
       "Pwani             [60, 6, 40]\n",
       "Rukwa                    [15]\n",
       "Ruvuma                   [10]\n",
       "Shinyanga        [17, 14, 11]\n",
       "Singida                  [13]\n",
       "Tabora                   [14]\n",
       "Tanga                  [4, 5]\n",
       "Name: region_code, dtype: object"
      ]
     },
     "execution_count": 94,
     "metadata": {},
     "output_type": "execute_result"
    }
   ],
   "source": [
    "data.groupby('region')['region_code'].unique()"
   ]
  },
  {
   "cell_type": "code",
   "execution_count": 95,
   "metadata": {},
   "outputs": [],
   "source": [
    "# what conclusion can we reach here?\n",
    "# Shoudln't each region have exacty 1 region_code?\n",
    "# Why should this matter?\n",
    "# -> Can we not just use feature: region and discard feature: region_code altogether?"
   ]
  },
  {
   "cell_type": "markdown",
   "metadata": {},
   "source": [
    "---"
   ]
  },
  {
   "cell_type": "markdown",
   "metadata": {},
   "source": [
    "column: **lga**\\\n",
    "lga: Geographic Location"
   ]
  },
  {
   "cell_type": "code",
   "execution_count": 96,
   "metadata": {},
   "outputs": [
    {
     "data": {
      "text/plain": [
       "Njombe          2503\n",
       "Arusha Rural    1252\n",
       "Moshi Rural     1251\n",
       "Bariadi         1177\n",
       "Rungwe          1106\n",
       "                ... \n",
       "Moshi Urban       79\n",
       "Kigoma Urban      71\n",
       "Arusha Urban      63\n",
       "Lindi Urban       21\n",
       "Nyamagana          1\n",
       "Name: lga, Length: 125, dtype: int64"
      ]
     },
     "execution_count": 96,
     "metadata": {},
     "output_type": "execute_result"
    }
   ],
   "source": [
    "data['lga'].value_counts()"
   ]
  },
  {
   "cell_type": "markdown",
   "metadata": {},
   "source": [
    "Note: Potential Feature Engineering opportunity.\n",
    "Hypothesis: The difference in the likelihood that a water pump is functional between that of rural and urban area is statistically significant."
   ]
  },
  {
   "cell_type": "code",
   "execution_count": 97,
   "metadata": {},
   "outputs": [
    {
     "data": {
      "text/plain": [
       "0.16"
      ]
     },
     "execution_count": 97,
     "metadata": {},
     "output_type": "execute_result"
    }
   ],
   "source": [
    "round(data['lga'].str.title().str.contains('Rural').sum()/len(data),2)"
   ]
  },
  {
   "cell_type": "code",
   "execution_count": 98,
   "metadata": {},
   "outputs": [
    {
     "data": {
      "text/plain": [
       "0.03"
      ]
     },
     "execution_count": 98,
     "metadata": {},
     "output_type": "execute_result"
    }
   ],
   "source": [
    "round(data['lga'].str.title().str.contains('Urban').sum()/len(data),2)"
   ]
  },
  {
   "cell_type": "markdown",
   "metadata": {},
   "source": [
    "Conclustion: data points containing 'Rural', or 'Urban' only consists of ~19% of the data. Hence, we cannot proceed with this approach."
   ]
  },
  {
   "cell_type": "markdown",
   "metadata": {},
   "source": [
    "---"
   ]
  },
  {
   "cell_type": "markdown",
   "metadata": {},
   "source": [
    "column: **public_meeting**"
   ]
  },
  {
   "cell_type": "code",
   "execution_count": 99,
   "metadata": {},
   "outputs": [
    {
     "data": {
      "text/plain": [
       "True     51011\n",
       "False     5055\n",
       "Name: public_meeting, dtype: int64"
      ]
     },
     "execution_count": 99,
     "metadata": {},
     "output_type": "execute_result"
    }
   ],
   "source": [
    "data['public_meeting'].value_counts()"
   ]
  },
  {
   "cell_type": "code",
   "execution_count": 100,
   "metadata": {},
   "outputs": [
    {
     "data": {
      "text/plain": [
       "public_meeting\n",
       "False    0.429871\n",
       "True     0.556899\n",
       "Name: target_var, dtype: float64"
      ]
     },
     "execution_count": 100,
     "metadata": {},
     "output_type": "execute_result"
    }
   ],
   "source": [
    "data.groupby('public_meeting')['target_var'].mean()"
   ]
  },
  {
   "cell_type": "markdown",
   "metadata": {},
   "source": [
    "What conclusion can we derive from the above?\\\n",
    "Or atleast, what information can we gain?\\"
   ]
  },
  {
   "cell_type": "markdown",
   "metadata": {},
   "source": [
    "---"
   ]
  },
  {
   "cell_type": "markdown",
   "metadata": {},
   "source": [
    "column: **scheme_management**"
   ]
  },
  {
   "cell_type": "code",
   "execution_count": 101,
   "metadata": {},
   "outputs": [
    {
     "data": {
      "text/plain": [
       "VWC                 0.619411\n",
       "WUG                 0.087643\n",
       "Water authority     0.053081\n",
       "WUA                 0.048535\n",
       "Water Board         0.046263\n",
       "Parastatal          0.028283\n",
       "Private operator    0.017896\n",
       "Company             0.017862\n",
       "Other               0.012896\n",
       "SWC                 0.001633\n",
       "Trust               0.001212\n",
       "None                0.000017\n",
       "Name: scheme_management, dtype: float64"
      ]
     },
     "execution_count": 101,
     "metadata": {},
     "output_type": "execute_result"
    }
   ],
   "source": [
    "data['scheme_management'].value_counts()/len(data)"
   ]
  },
  {
   "cell_type": "code",
   "execution_count": 102,
   "metadata": {},
   "outputs": [],
   "source": [
    "data['scheme_management_bool'] = np.where(data['scheme_management'] == 'VWC', 'VWC', 'Non-VWC')"
   ]
  },
  {
   "cell_type": "code",
   "execution_count": 103,
   "metadata": {},
   "outputs": [
    {
     "data": {
      "text/plain": [
       "scheme_management_bool\n",
       "Non-VWC    0.588269\n",
       "VWC        0.515315\n",
       "Name: target_var, dtype: float64"
      ]
     },
     "execution_count": 103,
     "metadata": {},
     "output_type": "execute_result"
    }
   ],
   "source": [
    "s = data.groupby('scheme_management_bool')['target_var'].mean()\n",
    "s"
   ]
  },
  {
   "cell_type": "code",
   "execution_count": 104,
   "metadata": {},
   "outputs": [
    {
     "data": {
      "text/plain": [
       "1.1415709777916887"
      ]
     },
     "execution_count": 104,
     "metadata": {},
     "output_type": "execute_result"
    }
   ],
   "source": [
    "s['Non-VWC']/s['VWC']"
   ]
  },
  {
   "cell_type": "code",
   "execution_count": null,
   "metadata": {},
   "outputs": [],
   "source": []
  },
  {
   "cell_type": "code",
   "execution_count": null,
   "metadata": {},
   "outputs": [],
   "source": []
  },
  {
   "cell_type": "markdown",
   "metadata": {},
   "source": [
    "---\n",
    "---\n",
    "---"
   ]
  },
  {
   "cell_type": "markdown",
   "metadata": {},
   "source": [
    "## EDA: Numeric Variables"
   ]
  },
  {
   "cell_type": "markdown",
   "metadata": {},
   "source": [
    "Population"
   ]
  },
  {
   "cell_type": "code",
   "execution_count": 105,
   "metadata": {},
   "outputs": [
    {
     "data": {
      "text/plain": [
       "count    59400.000000\n",
       "mean       179.909983\n",
       "std        471.482176\n",
       "min          0.000000\n",
       "25%          0.000000\n",
       "50%         25.000000\n",
       "75%        215.000000\n",
       "max      30500.000000\n",
       "Name: population, dtype: float64"
      ]
     },
     "execution_count": 105,
     "metadata": {},
     "output_type": "execute_result"
    }
   ],
   "source": [
    "data['population'].describe()"
   ]
  },
  {
   "cell_type": "code",
   "execution_count": 106,
   "metadata": {},
   "outputs": [
    {
     "data": {
      "text/plain": [
       "0        0.36\n",
       "1        0.12\n",
       "2        0.00\n",
       "3        0.00\n",
       "4        0.00\n",
       "         ... \n",
       "9865     0.00\n",
       "10000    0.00\n",
       "11463    0.00\n",
       "15300    0.00\n",
       "30500    0.00\n",
       "Name: population, Length: 1049, dtype: float64"
      ]
     },
     "execution_count": 106,
     "metadata": {},
     "output_type": "execute_result"
    }
   ],
   "source": [
    "round(data['population'].value_counts(normalize = True).sort_index(),2)"
   ]
  },
  {
   "cell_type": "markdown",
   "metadata": {},
   "source": [
    "~48% of the data is 0 or 1 for population"
   ]
  },
  {
   "cell_type": "code",
   "execution_count": 107,
   "metadata": {},
   "outputs": [
    {
     "data": {
      "text/plain": [
       "0    0.500634\n",
       "1    0.499366\n",
       "Name: target_var, dtype: float64"
      ]
     },
     "execution_count": 107,
     "metadata": {},
     "output_type": "execute_result"
    }
   ],
   "source": [
    "data[data['population'].isin([0,1])]['target_var'].value_counts(normalize = True)"
   ]
  },
  {
   "cell_type": "markdown",
   "metadata": {},
   "source": [
    "To apply **qcut** we can't have a value occuring so often"
   ]
  },
  {
   "cell_type": "markdown",
   "metadata": {},
   "source": [
    "drop 48% of the data with population == 0 or 1"
   ]
  },
  {
   "cell_type": "code",
   "execution_count": 113,
   "metadata": {},
   "outputs": [],
   "source": [
    "data_inhabitated = data[~data['population'].isin([0,1])].copy()"
   ]
  },
  {
   "cell_type": "markdown",
   "metadata": {},
   "source": [
    "Let us check again if any of the values occur very frequently"
   ]
  },
  {
   "cell_type": "code",
   "execution_count": 128,
   "metadata": {},
   "outputs": [
    {
     "data": {
      "text/plain": [
       "200     0.062593\n",
       "150     0.061044\n",
       "250     0.054236\n",
       "300     0.047622\n",
       "100     0.036975\n",
       "          ...   \n",
       "2395    0.000032\n",
       "571     0.000032\n",
       "1619    0.000032\n",
       "619     0.000032\n",
       "1863    0.000032\n",
       "Name: population, Length: 1047, dtype: float64"
      ]
     },
     "execution_count": 128,
     "metadata": {},
     "output_type": "execute_result"
    }
   ],
   "source": [
    "data_inhabitated['population'].value_counts(normalize = True).sort_values(ascending = False)"
   ]
  },
  {
   "cell_type": "markdown",
   "metadata": {},
   "source": [
    "We can see that the value that appears the most is 200 which is ~6.3% of the time.\\\n",
    "We should be able to move forward with this now."
   ]
  },
  {
   "cell_type": "markdown",
   "metadata": {},
   "source": [
    "Let us now bin the population column into the maximum amount of binning possible.\\\n",
    "Since 100/15 is 6.67 which is still higher than ~6.3%, we can select 15 to be the number of bins."
   ]
  },
  {
   "cell_type": "code",
   "execution_count": 133,
   "metadata": {},
   "outputs": [],
   "source": [
    "data_inhabitated['population_binned'] = pd.qcut(data_inhabitated['population'],\n",
    "                                                q = 15) # 19 is the max without error"
   ]
  },
  {
   "cell_type": "code",
   "execution_count": 142,
   "metadata": {},
   "outputs": [
    {
     "data": {
      "text/plain": [
       "2066.266666666667"
      ]
     },
     "execution_count": 142,
     "metadata": {},
     "output_type": "execute_result"
    }
   ],
   "source": [
    "len(data_inhabitated)/15"
   ]
  },
  {
   "cell_type": "code",
   "execution_count": 143,
   "metadata": {},
   "outputs": [
    {
     "data": {
      "text/plain": [
       "245"
      ]
     },
     "execution_count": 143,
     "metadata": {},
     "output_type": "execute_result"
    }
   ],
   "source": [
    "(data_inhabitated['population'] == 35).sum()"
   ]
  },
  {
   "cell_type": "code",
   "execution_count": 144,
   "metadata": {},
   "outputs": [
    {
     "data": {
      "text/plain": [
       "(1.999, 35.0]       2304\n",
       "(35.0, 50.0]        2060\n",
       "(50.0, 75.0]        1964\n",
       "(75.0, 100.0]       2564\n",
       "(100.0, 130.0]      1671\n",
       "(130.0, 150.0]      2344\n",
       "(150.0, 200.0]      2862\n",
       "(200.0, 230.0]       996\n",
       "(230.0, 250.0]      2080\n",
       "(250.0, 300.0]      2247\n",
       "(300.0, 350.0]      1662\n",
       "(350.0, 450.0]      2283\n",
       "(450.0, 557.2]      1824\n",
       "(557.2, 840.0]      2081\n",
       "(840.0, 30500.0]    2052\n",
       "Name: population_binned, dtype: int64"
      ]
     },
     "execution_count": 144,
     "metadata": {},
     "output_type": "execute_result"
    }
   ],
   "source": [
    "data_inhabitated['population_binned'].value_counts().sort_index()"
   ]
  },
  {
   "cell_type": "code",
   "execution_count": 145,
   "metadata": {},
   "outputs": [
    {
     "data": {
      "text/plain": [
       "2059"
      ]
     },
     "execution_count": 145,
     "metadata": {},
     "output_type": "execute_result"
    }
   ],
   "source": [
    "2304-245"
   ]
  },
  {
   "cell_type": "code",
   "execution_count": 126,
   "metadata": {},
   "outputs": [
    {
     "data": {
      "text/plain": [
       "population_binned\n",
       "(223.0, 250.0]       0.477866\n",
       "(250.0, 290.0]       0.491108\n",
       "(317.0, 358.0]       0.499388\n",
       "(500.0, 634.0]       0.508772\n",
       "(430.0, 500.0]       0.518753\n",
       "(150.0, 157.0]       0.520833\n",
       "(358.0, 430.0]       0.521127\n",
       "(200.0, 223.0]       0.523810\n",
       "(290.0, 317.0]       0.531288\n",
       "(634.0, 1000.0]      0.572511\n",
       "(157.0, 200.0]       0.579838\n",
       "(100.0, 120.0]       0.591297\n",
       "(1000.0, 30500.0]    0.597025\n",
       "(80.0, 100.0]        0.599694\n",
       "(120.0, 150.0]       0.605346\n",
       "(50.0, 60.0]         0.634061\n",
       "(30.0, 50.0]         0.679761\n",
       "(60.0, 80.0]         0.693390\n",
       "(1.0, 30.0]          0.772997\n",
       "Name: target_var, dtype: float64"
      ]
     },
     "execution_count": 126,
     "metadata": {},
     "output_type": "execute_result"
    }
   ],
   "source": [
    "_ = data_inhabitated.groupby('population_binned')['target_var'].mean()\n",
    "_.sort_values()"
   ]
  },
  {
   "cell_type": "code",
   "execution_count": 76,
   "metadata": {},
   "outputs": [
    {
     "data": {
      "image/png": "[encoded data removed]",
      "text/plain": [
       "<Figure size 432x288 with 1 Axes>"
      ]
     },
     "metadata": {
      "needs_background": "light"
     },
     "output_type": "display_data"
    }
   ],
   "source": [
    "_.plot();"
   ]
  },
  {
   "cell_type": "markdown",
   "metadata": {},
   "source": [
    "*population_binned* and the *likelihood of a pump being functional* has a **quadratic** relationship, with a concave up lineplot"
   ]
  },
  {
   "cell_type": "markdown",
   "metadata": {},
   "source": [
    "---"
   ]
  },
  {
   "cell_type": "markdown",
   "metadata": {},
   "source": [
    "Another approach to bin population **cut**"
   ]
  },
  {
   "cell_type": "code",
   "execution_count": 148,
   "metadata": {},
   "outputs": [
    {
     "data": {
      "text/plain": [
       "0"
      ]
     },
     "execution_count": 148,
     "metadata": {},
     "output_type": "execute_result"
    }
   ],
   "source": [
    "df['population'].min()"
   ]
  },
  {
   "cell_type": "code",
   "execution_count": 149,
   "metadata": {},
   "outputs": [
    {
     "data": {
      "text/plain": [
       "[(-30.5, 3050.0], (3050.0, 6100.0], (6100.0, 9150.0], (9150.0, 12200.0], (15250.0, 18300.0], (27450.0, 30500.0]]\n",
       "Categories (6, interval[float64]): [(-30.5, 3050.0] < (3050.0, 6100.0] < (6100.0, 9150.0] < (9150.0, 12200.0] < (15250.0, 18300.0] < (27450.0, 30500.0]]"
      ]
     },
     "execution_count": 149,
     "metadata": {},
     "output_type": "execute_result"
    }
   ],
   "source": [
    "pd.cut(df['population'],\n",
    "       bins = 10,).unique()"
   ]
  },
  {
   "cell_type": "code",
   "execution_count": 150,
   "metadata": {},
   "outputs": [
    {
     "data": {
      "text/plain": [
       "(-30.5, 3050.0]       0.995842\n",
       "(3050.0, 6100.0]      0.003013\n",
       "(6100.0, 9150.0]      0.001010\n",
       "(9150.0, 12200.0]     0.000101\n",
       "(27450.0, 30500.0]    0.000017\n",
       "(15250.0, 18300.0]    0.000017\n",
       "(24400.0, 27450.0]    0.000000\n",
       "(21350.0, 24400.0]    0.000000\n",
       "(18300.0, 21350.0]    0.000000\n",
       "(12200.0, 15250.0]    0.000000\n",
       "Name: population, dtype: float64"
      ]
     },
     "execution_count": 150,
     "metadata": {},
     "output_type": "execute_result"
    }
   ],
   "source": [
    "pd.cut(df['population'],\n",
    "       bins = 10,).value_counts(normalize = True)"
   ]
  },
  {
   "cell_type": "markdown",
   "metadata": {},
   "source": [
    "99% of the data lie in one class"
   ]
  },
  {
   "cell_type": "code",
   "execution_count": 152,
   "metadata": {},
   "outputs": [
    {
     "data": {
      "text/plain": [
       "(-3.031, 303.1]     0.837064\n",
       "(303.1, 606.2]      0.109498\n",
       "(606.2, 909.3]      0.026812\n",
       "(909.3, 1212.4]     0.011614\n",
       "(1212.4, 1515.5]    0.006340\n",
       "(1818.6, 2121.7]    0.003178\n",
       "(1515.5, 1818.6]    0.001927\n",
       "(2424.8, 2727.9]    0.001623\n",
       "(2727.9, 3031.0]    0.001031\n",
       "(2121.7, 2424.8]    0.000913\n",
       "Name: population, dtype: float64"
      ]
     },
     "execution_count": 152,
     "metadata": {},
     "output_type": "execute_result"
    }
   ],
   "source": [
    "pd.cut(df[df['population']<3050]['population'],\n",
    "       bins = 10,).value_counts(normalize = True)"
   ]
  },
  {
   "cell_type": "markdown",
   "metadata": {},
   "source": [
    "~ 84% of the data lie in one class\\\n",
    "~ 94% of the data in two classes"
   ]
  },
  {
   "cell_type": "markdown",
   "metadata": {},
   "source": [
    "Should I consider log transformation here? and perhaps potentially bin afterwards, if necessary?"
   ]
  },
  {
   "cell_type": "code",
   "execution_count": 153,
   "metadata": {},
   "outputs": [
    {
     "data": {
      "text/plain": [
       "(-0.605, 60.5]    0.605755\n",
       "(60.5, 121.0]     0.081428\n",
       "(242.0, 302.5]    0.071962\n",
       "(121.0, 181.5]    0.063281\n",
       "(181.5, 242.0]    0.061870\n",
       "(302.5, 363.0]    0.035222\n",
       "(484.0, 544.5]    0.025773\n",
       "(363.0, 423.5]    0.023648\n",
       "(423.5, 484.0]    0.015914\n",
       "(544.5, 605.0]    0.015146\n",
       "Name: population, dtype: float64"
      ]
     },
     "execution_count": 153,
     "metadata": {},
     "output_type": "execute_result"
    }
   ],
   "source": [
    "pd.cut(df[df[['population']<606]['population'],\n",
    "       bins = 10,).value_counts(normalize = True)"
   ]
  },
  {
   "cell_type": "markdown",
   "metadata": {},
   "source": [
    "This is because 0 constitutes of most of the values"
   ]
  },
  {
   "cell_type": "markdown",
   "metadata": {},
   "source": [
    "If we were to treat 0s as missing values and impute it?"
   ]
  },
  {
   "cell_type": "code",
   "execution_count": 156,
   "metadata": {},
   "outputs": [
    {
     "data": {
      "text/plain": [
       "(0.396, 61.4]     0.362297\n",
       "(61.4, 121.8]     0.131621\n",
       "(242.6, 303.0]    0.116537\n",
       "(121.8, 182.2]    0.102696\n",
       "(182.2, 242.6]    0.099778\n",
       "(303.0, 363.4]    0.056867\n",
       "(484.2, 544.6]    0.041697\n",
       "(363.4, 423.8]    0.038258\n",
       "(423.8, 484.2]    0.025746\n",
       "(544.6, 605.0]    0.024504\n",
       "Name: population, dtype: float64"
      ]
     },
     "execution_count": 156,
     "metadata": {},
     "output_type": "execute_result"
    }
   ],
   "source": [
    "pd.cut(df[(df['population']<606) & \\\n",
    "          (df['population']>0)]\\\n",
    "       ['population'],\n",
    "       bins = 10,).value_counts(normalize = True)"
   ]
  },
  {
   "cell_type": "markdown",
   "metadata": {},
   "source": [
    "even when we exclude observations with population = 0, a significant amount of observations (~ 36%) still fall under one category"
   ]
  },
  {
   "cell_type": "markdown",
   "metadata": {},
   "source": [
    "Decision:\n",
    "1) Treat 0s as missing value\\\n",
    "2) Log transforation\\\n",
    "3) Binning: depending on the situation"
   ]
  },
  {
   "cell_type": "markdown",
   "metadata": {},
   "source": [
    "---"
   ]
  },
  {
   "cell_type": "markdown",
   "metadata": {},
   "source": [
    "column: **latitude**, and \\\n",
    "column: **longtitude**"
   ]
  },
  {
   "cell_type": "markdown",
   "metadata": {},
   "source": [
    "Most northern i.e. the highest latitude is 00 59'S ^\\\n",
    "Most southern i.e. the lowest latitude is 11 45'S v\\\n",
    "\\\n",
    "Most eastern 40 29'E <\\\n",
    "Mose western  29 10'E  >\\\n",
    "\\\n",
    "source: https://worldpopulationreview.com/country-locations/where-is-tanzania"
   ]
  },
  {
   "cell_type": "code",
   "execution_count": 267,
   "metadata": {},
   "outputs": [
    {
     "name": "stdout",
     "output_type": "stream",
     "text": [
      "-11.64944018 -2e-08\n"
     ]
    }
   ],
   "source": [
    "print(df['latitude'].min(), df['latitude'].max())"
   ]
  },
  {
   "cell_type": "code",
   "execution_count": 268,
   "metadata": {},
   "outputs": [
    {
     "name": "stdout",
     "output_type": "stream",
     "text": [
      "0.0 40.34519307\n"
     ]
    }
   ],
   "source": [
    "print(df['longitude'].min(), df['longitude'].max())"
   ]
  },
  {
   "cell_type": "markdown",
   "metadata": {},
   "source": [
    "The westernmost point for Tanzania is 20 10'E\\\n",
    "Hence, all values for longitude lower than 20.10 is invalid data"
   ]
  },
  {
   "cell_type": "code",
   "execution_count": 269,
   "metadata": {},
   "outputs": [
    {
     "data": {
      "text/plain": [
       "0.0    0.030505\n",
       "Name: longitude, dtype: float64"
      ]
     },
     "execution_count": 269,
     "metadata": {},
     "output_type": "execute_result"
    }
   ],
   "source": [
    "df[df['longitude']< 20.10]['longitude'].value_counts()/len(df)"
   ]
  },
  {
   "cell_type": "markdown",
   "metadata": {},
   "source": [
    "Quite unsurprisingly, the only value less than 20.10 for longitude is 0.\\\n",
    "We can hence make a reasonable assumption that the values of 0.0 for column: **longitude** represent missing values."
   ]
  },
  {
   "cell_type": "code",
   "execution_count": 274,
   "metadata": {},
   "outputs": [
    {
     "data": {
      "text/plain": [
       "-2.000000e-08    1812\n",
       "Name: latitude, dtype: int64"
      ]
     },
     "execution_count": 274,
     "metadata": {},
     "output_type": "execute_result"
    }
   ],
   "source": [
    "df[df['longitude']== 0.0]['latitude'].value_counts()"
   ]
  },
  {
   "cell_type": "code",
   "execution_count": 278,
   "metadata": {},
   "outputs": [
    {
     "data": {
      "text/plain": [
       "0    1812\n",
       "Name: population, dtype: int64"
      ]
     },
     "execution_count": 278,
     "metadata": {},
     "output_type": "execute_result"
    }
   ],
   "source": [
    "df[df['longitude']== 0.0]['population'].value_counts()"
   ]
  },
  {
   "cell_type": "code",
   "execution_count": null,
   "metadata": {},
   "outputs": [],
   "source": [
    "df[df['longitude']== 0.0]['population'].value_counts()"
   ]
  },
  {
   "cell_type": "code",
   "execution_count": 279,
   "metadata": {},
   "outputs": [
    {
     "data": {
      "text/plain": [
       "functional                 870\n",
       "non functional             556\n",
       "functional needs repair    386\n",
       "Name: target_var, dtype: int64"
      ]
     },
     "execution_count": 279,
     "metadata": {},
     "output_type": "execute_result"
    }
   ],
   "source": [
    "df[df['longitude']== 0.0]['target_var'].value_counts()"
   ]
  },
  {
   "cell_type": "markdown",
   "metadata": {},
   "source": [
    "geography"
   ]
  },
  {
   "cell_type": "code",
   "execution_count": 280,
   "metadata": {},
   "outputs": [
    {
     "data": {
      "text/plain": [
       "Shinyanga    1005\n",
       "Mwanza        807\n",
       "Name: region, dtype: int64"
      ]
     },
     "execution_count": 280,
     "metadata": {},
     "output_type": "execute_result"
    }
   ],
   "source": [
    "df[df['longitude']== 0.0]['region'].value_counts()"
   ]
  },
  {
   "cell_type": "code",
   "execution_count": 281,
   "metadata": {},
   "outputs": [
    {
     "data": {
      "text/plain": [
       "Lake Victoria      1713\n",
       "Lake Tanganyika      99\n",
       "Name: basin, dtype: int64"
      ]
     },
     "execution_count": 281,
     "metadata": {},
     "output_type": "execute_result"
    }
   ],
   "source": [
    "df[df['longitude']== 0.0]['basin'].value_counts()"
   ]
  },
  {
   "cell_type": "code",
   "execution_count": 290,
   "metadata": {},
   "outputs": [
    {
     "data": {
      "text/plain": [
       "1    1057\n",
       "6     488\n",
       "2     264\n",
       "4       3\n",
       "Name: district_code, dtype: int64"
      ]
     },
     "execution_count": 290,
     "metadata": {},
     "output_type": "execute_result"
    }
   ],
   "source": [
    "df[df['longitude']== 0.0]['district_code'].value_counts()"
   ]
  },
  {
   "cell_type": "code",
   "execution_count": 315,
   "metadata": {},
   "outputs": [
    {
     "name": "stdout",
     "output_type": "stream",
     "text": [
      "35.01968034994101 2.055237091070566\n"
     ]
    }
   ],
   "source": [
    "district_code = '4'\n",
    "\n",
    "m   = df[(df['district_code'] == district_code) &\n",
    "       (df['longitude'] != 0)]\\\n",
    "        ['longitude'].mean()\n",
    "std = df[(df['district_code'] == district_code) &\n",
    "         (df['longitude'] != 0)]\\\n",
    "        ['longitude'].std()\n",
    "\n",
    "print(m, std)"
   ]
  },
  {
   "cell_type": "code",
   "execution_count": 306,
   "metadata": {},
   "outputs": [
    {
     "data": {
      "text/plain": [
       "2.055237091070566"
      ]
     },
     "execution_count": 306,
     "metadata": {},
     "output_type": "execute_result"
    }
   ],
   "source": []
  },
  {
   "cell_type": "markdown",
   "metadata": {},
   "source": [
    "We can assign the missing longitude to be the mean of district_code it belongs to"
   ]
  },
  {
   "cell_type": "code",
   "execution_count": null,
   "metadata": {},
   "outputs": [],
   "source": []
  }
 ],
 "metadata": {
  "kernelspec": {
   "display_name": "Python 3",
   "language": "python",
   "name": "python3"
  },
  "language_info": {
   "codemirror_mode": {
    "name": "ipython",
    "version": 3
   },
   "file_extension": ".py",
   "mimetype": "text/x-python",
   "name": "python",
   "nbconvert_exporter": "python",
   "pygments_lexer": "ipython3",
   "version": "3.8.3"
  }
 },
 "nbformat": 4,
 "nbformat_minor": 4
}
