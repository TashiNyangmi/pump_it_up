{
 "cells": [
  {
   "cell_type": "markdown",
   "metadata": {},
   "source": [
    "<img src = '../../sb_tight.png'>\n",
    "<h1 align = 'center'> Capstone Project 2: Pump It Up </h1>"
   ]
  },
  {
   "cell_type": "markdown",
   "metadata": {},
   "source": [
    "---"
   ]
  },
  {
   "cell_type": "markdown",
   "metadata": {},
   "source": [
    "### Notebook 3: Pre-processing\n",
    "**Author:<br>\n",
    "Tashi T. Gurung**<br>\n",
    "**hseb.tashi@gmail.com**"
   ]
  },
  {
   "cell_type": "markdown",
   "metadata": {},
   "source": [
    "### About the project:\n",
    "The **objective** of this project is to **predict the failure of water points** spread accross Tanzania before they occur.\n",
    "\n",
    "50% of Tanzania's population do not have access to safe water. Among other sources, Tanzanians depend on water points mostly pumps (~60K) spread across Tanzania. Compared to other infrastructure projects, water point projects consist of a huge number of inspection points that are geographically spread out. Gathering data on the condition of these pumps has been a challenge. From working with local agencies, to implementing mobile based crowd sourcing projects, none have produced satisfactory results.\n",
    "\n",
    "The lack of quality data creates a number of problem for a stakeholder like the Tanzanian Government, specifically the Ministry of Water. Consequences include not only higher maintainence costs, but also all the problems and nuanced issues faced by communities when their access to water is compromised or threatened.\n",
    "\n",
    "While better data collection infrastructure should be built overtime, this project (with its model(s), various analysis, and insights) will be key for efficient resource allocation to maximize the number of people and communities with access to water.\n",
    "In the long run, it will assist stake holders in and project planning, and even local, regional and national level policy formation. "
   ]
  },
  {
   "cell_type": "markdown",
   "metadata": {},
   "source": [
    "### About the notebook:\n",
    "The data for our project exists in two separate datasets:\n",
    "1. Containing potential features\n",
    "2. Containing target variable\n",
    "\n",
    "In this notebook, we combine these datasets.\\\n",
    "We also perform preliminary EDA, and look at duplicate values and missing values.\n",
    "\n",
    "Finally, we export this combined dataset for further EDA."
   ]
  },
  {
   "cell_type": "code",
   "execution_count": null,
   "metadata": {},
   "outputs": [],
   "source": []
  },
  {
   "cell_type": "markdown",
   "metadata": {},
   "source": [
    "There are columns where Null/NaN is represented by 0."
   ]
  },
  {
   "cell_type": "code",
   "execution_count": 62,
   "metadata": {},
   "outputs": [
    {
     "name": "stdout",
     "output_type": "stream",
     "text": [
      "amount_tsh\n",
      "70.1 % of amount_tsh values is 0\n",
      "gps_height\n",
      "34.41 % of gps_height values is 0\n",
      "longitude\n",
      "3.05 % of longitude values is 0\n",
      "latitude\n",
      "3.05 % of latitude values is 0\n",
      "num_private\n",
      "98.73 % of num_private values is 0\n",
      "population\n",
      "35.99 % of population values is 0\n",
      "construction_year\n",
      "6.84 % of construction_year values is 0\n"
     ]
    }
   ],
   "source": [
    "numerics = ['int16', 'int32', 'int64', 'float16', 'float32', 'float64']\n",
    "\n",
    "for col in df.select_dtypes(include=numerics).columns:\n",
    "    print(col)\n",
    "    print(round(df[col].value_counts(normalize= True).iloc[0] #assuming 0 and 0.0 are the first (0th) element\n",
    "                *100,2), \n",
    "                f'% of {col} values is 0')"
   ]
  },
  {
   "cell_type": "markdown",
   "metadata": {},
   "source": [
    "For column * **construction_year**, we can be certain that the 0s represent missing value.\\\n",
    "For column **population**, we are not sure.\\\n",
    "For other columns, we can be skeptical, but do not currently have enough information to arrive to such conclusions."
   ]
  },
  {
   "cell_type": "markdown",
   "metadata": {},
   "source": [
    "---"
   ]
  },
  {
   "cell_type": "markdown",
   "metadata": {},
   "source": [
    "Drop Columns"
   ]
  },
  {
   "cell_type": "code",
   "execution_count": 66,
   "metadata": {},
   "outputs": [
    {
     "data": {
      "text/plain": [
       "0      0.987256\n",
       "6      0.001364\n",
       "1      0.001229\n",
       "5      0.000774\n",
       "8      0.000774\n",
       "         ...   \n",
       "180    0.000017\n",
       "213    0.000017\n",
       "23     0.000017\n",
       "55     0.000017\n",
       "94     0.000017\n",
       "Name: num_private, Length: 65, dtype: float64"
      ]
     },
     "execution_count": 66,
     "metadata": {},
     "output_type": "execute_result"
    }
   ],
   "source": [
    "df['num_private'].value_counts(normalize = True)"
   ]
  },
  {
   "cell_type": "code",
   "execution_count": 67,
   "metadata": {},
   "outputs": [],
   "source": [
    "cols_to_drop = ['recorded_by',  # only 1 unique value\n",
    "                'num_private'] # ~99% of data is 0, also no info in data dictionary\n",
    "df.drop(columns = cols_to_drop, inplace = True)"
   ]
  },
  {
   "cell_type": "code",
   "execution_count": null,
   "metadata": {},
   "outputs": [],
   "source": []
  }
 ],
 "metadata": {
  "kernelspec": {
   "display_name": "Python 3",
   "language": "python",
   "name": "python3"
  },
  "language_info": {
   "codemirror_mode": {
    "name": "ipython",
    "version": 3
   },
   "file_extension": ".py",
   "mimetype": "text/x-python",
   "name": "python",
   "nbconvert_exporter": "python",
   "pygments_lexer": "ipython3",
   "version": "3.8.3"
  }
 },
 "nbformat": 4,
 "nbformat_minor": 4
}
