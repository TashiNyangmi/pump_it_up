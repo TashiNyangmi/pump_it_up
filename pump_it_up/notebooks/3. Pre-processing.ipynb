{
 "cells": [
  {
   "cell_type": "markdown",
   "metadata": {},
   "source": [
    "There are columns where Null/NaN is represented by 0."
   ]
  },
  {
   "cell_type": "code",
   "execution_count": 62,
   "metadata": {},
   "outputs": [
    {
     "name": "stdout",
     "output_type": "stream",
     "text": [
      "amount_tsh\n",
      "70.1 % of amount_tsh values is 0\n",
      "gps_height\n",
      "34.41 % of gps_height values is 0\n",
      "longitude\n",
      "3.05 % of longitude values is 0\n",
      "latitude\n",
      "3.05 % of latitude values is 0\n",
      "num_private\n",
      "98.73 % of num_private values is 0\n",
      "population\n",
      "35.99 % of population values is 0\n",
      "construction_year\n",
      "6.84 % of construction_year values is 0\n"
     ]
    }
   ],
   "source": [
    "numerics = ['int16', 'int32', 'int64', 'float16', 'float32', 'float64']\n",
    "\n",
    "for col in df.select_dtypes(include=numerics).columns:\n",
    "    print(col)\n",
    "    print(round(df[col].value_counts(normalize= True).iloc[0] #assuming 0 and 0.0 are the first (0th) element\n",
    "                *100,2), \n",
    "                f'% of {col} values is 0')"
   ]
  },
  {
   "cell_type": "markdown",
   "metadata": {},
   "source": [
    "For column * **construction_year**, we can be certain that the 0s represent missing value.\\\n",
    "For columns population, we are not sure.\\\n",
    "For other columns, we can be skeptical, but do not currently have enough information to arrive to such conclusions."
   ]
  },
  {
   "cell_type": "code",
   "execution_count": 63,
   "metadata": {},
   "outputs": [
    {
     "data": {
      "text/plain": [
       "0     21381\n",
       "1      7025\n",
       "2         4\n",
       "3         4\n",
       "4        13\n",
       "5        44\n",
       "6        19\n",
       "7         3\n",
       "8        23\n",
       "9        11\n",
       "10      163\n",
       "11        7\n",
       "12       43\n",
       "13       12\n",
       "14       18\n",
       "15      193\n",
       "16        8\n",
       "17        6\n",
       "18       18\n",
       "19        3\n",
       "20      462\n",
       "21        3\n",
       "22        9\n",
       "23       27\n",
       "24       16\n",
       "25      255\n",
       "26       11\n",
       "27        5\n",
       "28        9\n",
       "29        7\n",
       "Name: population, dtype: int64"
      ]
     },
     "execution_count": 63,
     "metadata": {},
     "output_type": "execute_result"
    }
   ],
   "source": [
    "df['population'].value_counts().sort_index().head(30)"
   ]
  },
  {
   "cell_type": "markdown",
   "metadata": {},
   "source": [
    "Perhaps we use binning techniques for column :**population**"
   ]
  },
  {
   "cell_type": "code",
   "execution_count": 64,
   "metadata": {},
   "outputs": [],
   "source": [
    "df['construction_year'] = df['construction_year'].replace({0:np.NaN, 0.0: np.NaN})"
   ]
  },
  {
   "cell_type": "code",
   "execution_count": null,
   "metadata": {},
   "outputs": [],
   "source": []
  },
  {
   "cell_type": "code",
   "execution_count": null,
   "metadata": {},
   "outputs": [],
   "source": []
  },
  {
   "cell_type": "code",
   "execution_count": null,
   "metadata": {},
   "outputs": [],
   "source": []
  },
  {
   "cell_type": "markdown",
   "metadata": {},
   "source": [
    "Drop Columns"
   ]
  },
  {
   "cell_type": "code",
   "execution_count": 66,
   "metadata": {},
   "outputs": [
    {
     "data": {
      "text/plain": [
       "0      0.987256\n",
       "6      0.001364\n",
       "1      0.001229\n",
       "5      0.000774\n",
       "8      0.000774\n",
       "         ...   \n",
       "180    0.000017\n",
       "213    0.000017\n",
       "23     0.000017\n",
       "55     0.000017\n",
       "94     0.000017\n",
       "Name: num_private, Length: 65, dtype: float64"
      ]
     },
     "execution_count": 66,
     "metadata": {},
     "output_type": "execute_result"
    }
   ],
   "source": [
    "df['num_private'].value_counts(normalize = True)"
   ]
  },
  {
   "cell_type": "code",
   "execution_count": 67,
   "metadata": {},
   "outputs": [],
   "source": [
    "cols_to_drop = ['recorded_by',  # only 1 unique value\n",
    "                'num_private'] # ~99% of data is 0, also no info in data dictionary\n",
    "df.drop(columns = cols_to_drop, inplace = True)"
   ]
  },
  {
   "cell_type": "code",
   "execution_count": null,
   "metadata": {},
   "outputs": [],
   "source": []
  }
 ],
 "metadata": {
  "kernelspec": {
   "display_name": "Python 3",
   "language": "python",
   "name": "python3"
  },
  "language_info": {
   "codemirror_mode": {
    "name": "ipython",
    "version": 3
   },
   "file_extension": ".py",
   "mimetype": "text/x-python",
   "name": "python",
   "nbconvert_exporter": "python",
   "pygments_lexer": "ipython3",
   "version": "3.8.3"
  }
 },
 "nbformat": 4,
 "nbformat_minor": 4
}
